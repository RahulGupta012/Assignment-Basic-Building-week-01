{
 "cells": [
  {
   "cell_type": "markdown",
   "id": "bd832088-847f-43fd-9601-408fc980266c",
   "metadata": {},
   "source": [
    "#Quation;01 Create one variable contaimg following data type.\n",
    "Answer 01; There are a variable named 'a' 'b' 'c' 'd' in which each type of data conatians and further there is a function \n",
    "'type()' for verifying each data type."
   ]
  },
  {
   "cell_type": "code",
   "execution_count": null,
   "id": "d3de5f19-20c5-4b1a-b1fb-5c7bf7cca84a",
   "metadata": {},
   "outputs": [],
   "source": []
  },
  {
   "cell_type": "markdown",
   "id": "db21a254-1058-4a97-bf0c-5da53b9cca5c",
   "metadata": {},
   "source": [
    "1. in a string it is important to wrap the data within \"\" or '' . and it store all type of the data in form of text."
   ]
  },
  {
   "cell_type": "code",
   "execution_count": 4,
   "id": "086276fc-54cc-4d24-a183-28636d807822",
   "metadata": {},
   "outputs": [],
   "source": [
    "a= 'string'"
   ]
  },
  {
   "cell_type": "code",
   "execution_count": 17,
   "id": "4d7f0987-fda0-4562-b370-dfb7e09c1210",
   "metadata": {},
   "outputs": [
    {
     "data": {
      "text/plain": [
       "str"
      ]
     },
     "execution_count": 17,
     "metadata": {},
     "output_type": "execute_result"
    }
   ],
   "source": [
    "type(a)"
   ]
  },
  {
   "cell_type": "markdown",
   "id": "2a8bbeb2-4c92-42f0-993a-a175fea03bd9",
   "metadata": {},
   "source": [
    "2. A list contains the such data like as numeric, deciamal or in text. it is always mutable."
   ]
  },
  {
   "cell_type": "code",
   "execution_count": 6,
   "id": "2f7edbe9-c17d-4d23-b2e1-7d74b75c7fd5",
   "metadata": {},
   "outputs": [],
   "source": [
    "b=['string',0,12,12.4]"
   ]
  },
  {
   "cell_type": "code",
   "execution_count": 7,
   "id": "6afec537-b6e0-486f-9dfb-3dad6d5a9432",
   "metadata": {},
   "outputs": [
    {
     "data": {
      "text/plain": [
       "list"
      ]
     },
     "execution_count": 7,
     "metadata": {},
     "output_type": "execute_result"
    }
   ],
   "source": [
    "type(b)"
   ]
  },
  {
   "cell_type": "markdown",
   "id": "4640ad55-68fd-4f77-8207-5305e7151e88",
   "metadata": {},
   "source": [
    "3. A float veriable contains deciaml values."
   ]
  },
  {
   "cell_type": "code",
   "execution_count": 8,
   "id": "5e0184fc-2eab-4ba9-886d-cc4258c30f91",
   "metadata": {},
   "outputs": [],
   "source": [
    "c=9.2"
   ]
  },
  {
   "cell_type": "code",
   "execution_count": 10,
   "id": "5e8e2a9e-8b08-4066-a5f6-e460a655779a",
   "metadata": {},
   "outputs": [
    {
     "data": {
      "text/plain": [
       "float"
      ]
     },
     "execution_count": 10,
     "metadata": {},
     "output_type": "execute_result"
    }
   ],
   "source": [
    "type(c)"
   ]
  },
  {
   "cell_type": "markdown",
   "id": "eea1c629-3861-438f-98b0-527c5fa5f623",
   "metadata": {},
   "source": [
    "4. tuple is vary similar variable as list. but tiple is immutable while list is mutable. it is a basic difference between them."
   ]
  },
  {
   "cell_type": "code",
   "execution_count": 12,
   "id": "0446386c-c9a3-44f1-8ab2-6eb38c50912b",
   "metadata": {},
   "outputs": [],
   "source": [
    "d= (8,2,)"
   ]
  },
  {
   "cell_type": "code",
   "execution_count": 14,
   "id": "d6ad2525-1b5e-47ee-baab-9e15390cf156",
   "metadata": {},
   "outputs": [
    {
     "data": {
      "text/plain": [
       "tuple"
      ]
     },
     "execution_count": 14,
     "metadata": {},
     "output_type": "execute_result"
    }
   ],
   "source": [
    "type(d)"
   ]
  },
  {
   "cell_type": "code",
   "execution_count": null,
   "id": "d0c4c24a-abc5-43db-b312-aae45287522f",
   "metadata": {},
   "outputs": [],
   "source": []
  },
  {
   "cell_type": "markdown",
   "id": "c580e0b0-9ccb-424a-a1d5-ccabc8e0e48a",
   "metadata": {},
   "source": [
    "Q2; data type of the variables contaning data.\n",
    "answer;\n",
    "we can chek the data type of the variable by using single function which is \"type()\"."
   ]
  },
  {
   "cell_type": "code",
   "execution_count": null,
   "id": "ac832e56-e762-4f47-b89f-057ccaf5e72b",
   "metadata": {},
   "outputs": [],
   "source": []
  },
  {
   "cell_type": "code",
   "execution_count": 15,
   "id": "8ffd9ef9-7094-4d25-8037-e8647758322c",
   "metadata": {},
   "outputs": [],
   "source": [
    "var1=''"
   ]
  },
  {
   "cell_type": "code",
   "execution_count": 16,
   "id": "e1842bf4-f1de-4201-af8f-3f677936448a",
   "metadata": {},
   "outputs": [
    {
     "data": {
      "text/plain": [
       "str"
      ]
     },
     "execution_count": 16,
     "metadata": {},
     "output_type": "execute_result"
    }
   ],
   "source": [
    "type(var1)\n"
   ]
  },
  {
   "cell_type": "markdown",
   "id": "c3f04652-0846-4c15-b45d-30190ba16911",
   "metadata": {},
   "source": [
    "above veriable data type is string as we also see the \"\" is only use for the string data type."
   ]
  },
  {
   "cell_type": "code",
   "execution_count": 19,
   "id": "b2ef45b4-0771-41d0-abda-c5936440993a",
   "metadata": {},
   "outputs": [],
   "source": [
    "var2='[DS,ML,Python]'"
   ]
  },
  {
   "cell_type": "code",
   "execution_count": 20,
   "id": "228bcf3f-80ab-4cd3-b30b-6ad8e39b2caf",
   "metadata": {},
   "outputs": [
    {
     "data": {
      "text/plain": [
       "str"
      ]
     },
     "execution_count": 20,
     "metadata": {},
     "output_type": "execute_result"
    }
   ],
   "source": [
    "type(var2)"
   ]
  },
  {
   "cell_type": "markdown",
   "id": "e5b55f8d-9705-4860-8fd7-a635ac744d36",
   "metadata": {},
   "source": [
    "As following data is wraped in '' means it isa string data type."
   ]
  },
  {
   "cell_type": "code",
   "execution_count": 21,
   "id": "0b9e30fe-77b1-49fe-9315-e49e138826c3",
   "metadata": {},
   "outputs": [],
   "source": [
    "var3=['DS','ML','Python']"
   ]
  },
  {
   "cell_type": "code",
   "execution_count": 22,
   "id": "86b01c4b-88e4-41d3-9a20-75869368d567",
   "metadata": {},
   "outputs": [
    {
     "data": {
      "text/plain": [
       "list"
      ]
     },
     "execution_count": 22,
     "metadata": {},
     "output_type": "execute_result"
    }
   ],
   "source": [
    "type(var3)"
   ]
  },
  {
   "cell_type": "markdown",
   "id": "5b67d50e-acf3-4e7c-9527-19a7468f71bc",
   "metadata": {},
   "source": [
    "above variabe is a list contains the string data type."
   ]
  },
  {
   "cell_type": "code",
   "execution_count": 23,
   "id": "3512b242-6554-484d-a1f7-3837695e177e",
   "metadata": {},
   "outputs": [],
   "source": [
    "var4=1"
   ]
  },
  {
   "cell_type": "code",
   "execution_count": 24,
   "id": "8f14d08d-9fd5-4b6b-8510-1307951261f9",
   "metadata": {},
   "outputs": [
    {
     "data": {
      "text/plain": [
       "int"
      ]
     },
     "execution_count": 24,
     "metadata": {},
     "output_type": "execute_result"
    }
   ],
   "source": [
    "type(var4)"
   ]
  },
  {
   "cell_type": "markdown",
   "id": "1292cf01-f369-4f55-bede-c97bf747a87f",
   "metadata": {},
   "source": [
    "Above data contains numeric value without decimals so it is a integar type of data."
   ]
  },
  {
   "cell_type": "code",
   "execution_count": null,
   "id": "f23cd561-931e-437e-8a2e-53e0c87f90a6",
   "metadata": {},
   "outputs": [],
   "source": []
  },
  {
   "cell_type": "markdown",
   "id": "fb8845d8-ea42-4990-b90a-0649a6e2fdb5",
   "metadata": {},
   "source": [
    "Q3: Explain the use of operators. \n",
    "answer; Operators are basically using for the opration amoung the data. Given opreators are explained below."
   ]
  },
  {
   "cell_type": "markdown",
   "id": "5c2e8dae-37a0-4b49-aa84-049d4576596b",
   "metadata": {},
   "source": [
    "1. / \n",
    "it is a airthmatic opreator called \"Division Opreators\" it gives the division value even in decimales.ex;"
   ]
  },
  {
   "cell_type": "code",
   "execution_count": 25,
   "id": "87f7c9e8-bd15-48a1-a19d-271f7577f5b3",
   "metadata": {},
   "outputs": [
    {
     "data": {
      "text/plain": [
       "9.23076923076923"
      ]
     },
     "execution_count": 25,
     "metadata": {},
     "output_type": "execute_result"
    }
   ],
   "source": [
    "120/13"
   ]
  },
  {
   "cell_type": "markdown",
   "id": "ca32f7ed-b0eb-479c-9513-8e86dc7e8e28",
   "metadata": {},
   "source": [
    "2. %\n",
    "it is also a modulas opreator.it is a percantage opreator in mathamatices but here it has work in a different way. it given the remainder for two numbers,when they are divided.Ex;"
   ]
  },
  {
   "cell_type": "code",
   "execution_count": 26,
   "id": "411654da-187f-4779-a624-c5ae4f05106b",
   "metadata": {},
   "outputs": [
    {
     "data": {
      "text/plain": [
       "2"
      ]
     },
     "execution_count": 26,
     "metadata": {},
     "output_type": "execute_result"
    }
   ],
   "source": [
    "12%5"
   ]
  },
  {
   "cell_type": "markdown",
   "id": "7e944c71-d926-4f18-9e5f-cbde1d86a372",
   "metadata": {},
   "source": [
    "3.//\n",
    "it is similar to the division opreator but the basic difference between them, that it just print the non decimal value.thats why it is called the floar division or integar divison.Ex;\n"
   ]
  },
  {
   "cell_type": "code",
   "execution_count": 27,
   "id": "e376a947-e58f-4592-a45a-df14cbc9221f",
   "metadata": {},
   "outputs": [
    {
     "data": {
      "text/plain": [
       "9"
      ]
     },
     "execution_count": 27,
     "metadata": {},
     "output_type": "execute_result"
    }
   ],
   "source": [
    "120//13"
   ]
  },
  {
   "cell_type": "markdown",
   "id": "ec66e9ad-a578-4e99-aa71-945d3c2d86f1",
   "metadata": {},
   "source": [
    "4.**\n",
    "it print the power of the number. ex; 2**3= 2*2*2=8"
   ]
  },
  {
   "cell_type": "code",
   "execution_count": 28,
   "id": "d07693dc-ce13-41f8-b82c-554fa4904f7a",
   "metadata": {},
   "outputs": [
    {
     "data": {
      "text/plain": [
       "8"
      ]
     },
     "execution_count": 28,
     "metadata": {},
     "output_type": "execute_result"
    }
   ],
   "source": [
    "2**3"
   ]
  },
  {
   "cell_type": "code",
   "execution_count": null,
   "id": "bb54917f-0610-464e-a5d1-0a35c8d0713a",
   "metadata": {},
   "outputs": [],
   "source": []
  },
  {
   "cell_type": "markdown",
   "id": "fad1d8b3-a833-4dae-8b14-98c28c87ea02",
   "metadata": {},
   "source": [
    "Q4.a list length of 10 containg multiple type of data.using the loop print element and its data type "
   ]
  },
  {
   "cell_type": "code",
   "execution_count": 1,
   "id": "e3e2e155-2bb2-418a-a26e-a4ee4b0f1e1d",
   "metadata": {},
   "outputs": [],
   "source": [
    "list=[12,'rahul', 12.44, 0.33,11,'rohit',7,'eight','kumar',11]"
   ]
  },
  {
   "cell_type": "code",
   "execution_count": 4,
   "id": "e49ecd98-11ac-4472-8362-4d8dc0db7138",
   "metadata": {},
   "outputs": [
    {
     "name": "stdout",
     "output_type": "stream",
     "text": [
      "12\n",
      "<class 'int'>\n",
      "rahul\n",
      "<class 'str'>\n",
      "12.44\n",
      "<class 'float'>\n",
      "0.33\n",
      "<class 'float'>\n",
      "11\n",
      "<class 'int'>\n",
      "rohit\n",
      "<class 'str'>\n",
      "7\n",
      "<class 'int'>\n",
      "eight\n",
      "<class 'str'>\n",
      "kumar\n",
      "<class 'str'>\n",
      "11\n",
      "<class 'int'>\n"
     ]
    }
   ],
   "source": [
    "for i in list:\n",
    "    print(i)\n",
    "    print(type(i))"
   ]
  },
  {
   "cell_type": "code",
   "execution_count": null,
   "id": "741c6c12-831a-45fc-96cd-1329a78e23fc",
   "metadata": {},
   "outputs": [],
   "source": []
  },
  {
   "cell_type": "markdown",
   "id": "07cf3c34-3c8c-4fc9-9c3d-373b083b37bf",
   "metadata": {},
   "source": [
    "Q5; Using a while loop, verify if the number A is purely divisible by number B and if so then how many times it can be divisible?\n",
    "Answer;\n",
    "The number A is divisible by b times."
   ]
  },
  {
   "cell_type": "code",
   "execution_count": 45,
   "id": "c9e0b56f-5043-42f0-8a2f-e70324b20ebc",
   "metadata": {},
   "outputs": [
    {
     "name": "stdout",
     "output_type": "stream",
     "text": [
      "the number a can be divided b times\n"
     ]
    }
   ],
   "source": [
    "A=6\n",
    "B=3\n",
    "\n",
    "while A%B==0:\n",
    "    A=A/B\n",
    "    count+=1\n",
    "    print('the number a can be divided b times')"
   ]
  },
  {
   "cell_type": "code",
   "execution_count": null,
   "id": "ffde1cd1-d82f-4027-87a1-90e40ec6efc1",
   "metadata": {},
   "outputs": [],
   "source": []
  },
  {
   "cell_type": "markdown",
   "id": "48db4956-75d1-4136-8e82-5cfbcfdcb551",
   "metadata": {},
   "source": [
    "Q.6 A list containing 25 int type data. Using for loop if else condtion print if the element is divisible by 3 or not"
   ]
  },
  {
   "cell_type": "code",
   "execution_count": 44,
   "id": "aa086f6d-10eb-404d-9aa9-a34f879f2274",
   "metadata": {},
   "outputs": [],
   "source": [
    "numbers=[1,2,3,4,5,6,7,8,9,10,11,12,13,14,15,16,17,18,19,20,21,22,23,24,25]"
   ]
  },
  {
   "cell_type": "code",
   "execution_count": 25,
   "id": "892817a5-f238-4741-8047-ee92626071b1",
   "metadata": {},
   "outputs": [
    {
     "name": "stdout",
     "output_type": "stream",
     "text": [
      "Number is not divisible by 3\n",
      "Number is not divisible by 3\n",
      "Number is divisible by 3\n",
      "Number is not divisible by 3\n",
      "Number is not divisible by 3\n",
      "Number is divisible by 3\n",
      "Number is not divisible by 3\n",
      "Number is not divisible by 3\n",
      "Number is divisible by 3\n",
      "Number is not divisible by 3\n",
      "Number is not divisible by 3\n",
      "Number is divisible by 3\n",
      "Number is not divisible by 3\n",
      "Number is not divisible by 3\n",
      "Number is divisible by 3\n",
      "Number is not divisible by 3\n",
      "Number is not divisible by 3\n",
      "Number is divisible by 3\n",
      "Number is not divisible by 3\n",
      "Number is not divisible by 3\n",
      "Number is divisible by 3\n",
      "Number is not divisible by 3\n",
      "Number is not divisible by 3\n",
      "Number is divisible by 3\n",
      "Number is not divisible by 3\n"
     ]
    }
   ],
   "source": [
    "for i in numbers:\n",
    "    if i%3==0:\n",
    "         print('Number is divisible by 3')\n",
    "    else:\n",
    "         print('Number is not divisible by 3')"
   ]
  },
  {
   "cell_type": "code",
   "execution_count": null,
   "id": "23e264f1-4628-4e56-8bca-70d0d3490307",
   "metadata": {},
   "outputs": [],
   "source": []
  },
  {
   "cell_type": "markdown",
   "id": "9a3027b2-a944-4124-96cc-615d68977bcb",
   "metadata": {},
   "source": [
    "Q7; My understanding with mutable and immutable data types and there examples.\n",
    "answer;\n",
    "In a mutable data type we can change it from it's variable like list and in immutable data type such opreations are not applicable . It means in the immutable data type we can't change the data from the veriable. If we want to change the data we have to creat a new variable for that like string and tuple. Even somhow it is the reson behind the existance of 'tuple' which is immutable."
   ]
  },
  {
   "cell_type": "code",
   "execution_count": 32,
   "id": "8911e9b9-e9ba-44aa-a0c4-87712212c748",
   "metadata": {},
   "outputs": [],
   "source": [
    "list=[23,34,'ram','shyam']"
   ]
  },
  {
   "cell_type": "code",
   "execution_count": 35,
   "id": "84aef621-dd39-4499-a42a-b45c7bf848d2",
   "metadata": {},
   "outputs": [],
   "source": [
    "list[1]=4000256"
   ]
  },
  {
   "cell_type": "code",
   "execution_count": 36,
   "id": "98bd62fb-735b-482e-b92a-5e58e9bfc084",
   "metadata": {},
   "outputs": [
    {
     "data": {
      "text/plain": [
       "[23, 4000256, 'ram', 'shyam']"
      ]
     },
     "execution_count": 36,
     "metadata": {},
     "output_type": "execute_result"
    }
   ],
   "source": [
    "list"
   ]
  },
  {
   "cell_type": "markdown",
   "id": "3a422515-5121-44db-9470-7b82dee86878",
   "metadata": {},
   "source": [
    "it is exicuted nicely which means it is mutable"
   ]
  },
  {
   "cell_type": "code",
   "execution_count": null,
   "id": "9d09baa3-eeef-40a0-9d1c-619f6cb11105",
   "metadata": {},
   "outputs": [],
   "source": []
  },
  {
   "cell_type": "code",
   "execution_count": 38,
   "id": "1ae509d0-0425-4b78-9c06-b21e2425aec7",
   "metadata": {},
   "outputs": [],
   "source": [
    "s='data science is a good course'"
   ]
  },
  {
   "cell_type": "code",
   "execution_count": 39,
   "id": "833787ae-48d1-45df-a850-c0e763b27a31",
   "metadata": {},
   "outputs": [
    {
     "ename": "TypeError",
     "evalue": "'str' object does not support item assignment",
     "output_type": "error",
     "traceback": [
      "\u001b[0;31m---------------------------------------------------------------------------\u001b[0m",
      "\u001b[0;31mTypeError\u001b[0m                                 Traceback (most recent call last)",
      "Cell \u001b[0;32mIn[39], line 1\u001b[0m\n\u001b[0;32m----> 1\u001b[0m \u001b[43ms\u001b[49m\u001b[43m[\u001b[49m\u001b[38;5;241;43m4\u001b[39;49m\u001b[43m]\u001b[49m\u001b[38;5;241m=\u001b[39m \u001b[38;5;124m'\u001b[39m\u001b[38;5;124mbad\u001b[39m\u001b[38;5;124m'\u001b[39m\n",
      "\u001b[0;31mTypeError\u001b[0m: 'str' object does not support item assignment"
     ]
    }
   ],
   "source": [
    "s[4]= 'bad'"
   ]
  },
  {
   "cell_type": "markdown",
   "id": "dd72649e-6b62-43f2-9be2-6bf7e05a798e",
   "metadata": {},
   "source": [
    "TypeError shows: 'str' object does not support item assigmnet. it means it(string) is always immutable. "
   ]
  }
 ],
 "metadata": {
  "kernelspec": {
   "display_name": "Python 3 (ipykernel)",
   "language": "python",
   "name": "python3"
  },
  "language_info": {
   "codemirror_mode": {
    "name": "ipython",
    "version": 3
   },
   "file_extension": ".py",
   "mimetype": "text/x-python",
   "name": "python",
   "nbconvert_exporter": "python",
   "pygments_lexer": "ipython3",
   "version": "3.10.8"
  }
 },
 "nbformat": 4,
 "nbformat_minor": 5
}
